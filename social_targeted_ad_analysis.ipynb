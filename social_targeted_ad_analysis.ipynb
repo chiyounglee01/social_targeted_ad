{
 "cells": [
  {
   "cell_type": "markdown",
   "id": "04b406f6",
   "metadata": {},
   "source": [
    "## Social Media Targeted Ad Analysis\n",
    "\n",
    "### Introduction\n",
    "\n",
    "**When it comes to social media ads, every company tries to get the most customers they can with the least amount of spend. In order to achieve this goal, it is important to analyse data from current social ad campaigns to answer the following questions.**\n",
    "\n",
    "* **What current social ad campaigns are effective at conversions?**\n",
    "* **Does the current ad spend correlate with consumers buying the product?**\n",
    "* **What demographics respond well to the current social ad campaigns?**\n",
    "\n",
    "**In this Visual Data Analysis, we examine a dataset from an anonymous company’s Facebook ad campaign. The data file can be downloaded from [here](https://www.kaggle.com/loveall/clicks-conversion-tracking). The anonymous company is refered to as `company xyz` in this dataset. The file conversion_data.csv contains 1143 observations in 11 variables. Below are the descriptions of the variables.**\n",
    "\n",
    "1.) ad_id: an unique ID for each ad.\n",
    "\n",
    "2.) xyzcampaignid: an ID associated with each ad campaign of XYZ company.\n",
    "\n",
    "3.) fbcampaignid: an ID associated with how Facebook tracks each campaign.\n",
    "\n",
    "4.) age: age of the person to whom the ad is shown.\n",
    "\n",
    "5.) gender: gender of the person to whim the add is shown\n",
    "\n",
    "6.) interest: a code specifying the category to which the person’s interest belongs (interests are as mentioned in the person’s Facebook public profile).\n",
    "\n",
    "7.) Impressions: the number of times the ad was shown.\n",
    "\n",
    "8.) Clicks: number of clicks on for that ad.\n",
    "\n",
    "9.) Spent: Amount paid by company xyz to Facebook, to show that ad.\n",
    "\n",
    "10.) Total conversion: Total number of people who enquired about the product after seeing the ad.\n",
    "\n",
    "11.) Approved conversion: Total number of people who bought the product after seeing the ad."
   ]
  },
  {
   "cell_type": "markdown",
   "id": "beae6437",
   "metadata": {},
   "source": [
    "### Data Wrangling"
   ]
  },
  {
   "cell_type": "markdown",
   "id": "6af9a0fa",
   "metadata": {},
   "source": [
    "**Import necessary libraries.**"
   ]
  },
  {
   "cell_type": "code",
   "execution_count": 1,
   "id": "bdf7f55d",
   "metadata": {},
   "outputs": [],
   "source": [
    "import pandas as pd\n",
    "import numpy as np\n",
    "import matplotlib.pyplot as plt\n",
    "import seaborn as sns"
   ]
  },
  {
   "cell_type": "markdown",
   "id": "eb3aceb8",
   "metadata": {},
   "source": [
    "**Read the raw data.**"
   ]
  },
  {
   "cell_type": "code",
   "execution_count": 2,
   "id": "bcd77a03",
   "metadata": {},
   "outputs": [],
   "source": [
    "df = pd.read_csv('KAG_conversion_data.csv')"
   ]
  },
  {
   "cell_type": "markdown",
   "id": "93c4cdd8",
   "metadata": {},
   "source": [
    "**Check the information.**"
   ]
  },
  {
   "cell_type": "code",
   "execution_count": 3,
   "id": "864eb41b",
   "metadata": {},
   "outputs": [
    {
     "name": "stdout",
     "output_type": "stream",
     "text": [
      "<class 'pandas.core.frame.DataFrame'>\n",
      "RangeIndex: 1143 entries, 0 to 1142\n",
      "Data columns (total 11 columns):\n",
      " #   Column               Non-Null Count  Dtype  \n",
      "---  ------               --------------  -----  \n",
      " 0   ad_id                1143 non-null   int64  \n",
      " 1   xyz_campaign_id      1143 non-null   int64  \n",
      " 2   fb_campaign_id       1143 non-null   int64  \n",
      " 3   age                  1143 non-null   object \n",
      " 4   gender               1143 non-null   object \n",
      " 5   interest             1143 non-null   int64  \n",
      " 6   Impressions          1143 non-null   int64  \n",
      " 7   Clicks               1143 non-null   int64  \n",
      " 8   Spent                1143 non-null   float64\n",
      " 9   Total_Conversion     1143 non-null   int64  \n",
      " 10  Approved_Conversion  1143 non-null   int64  \n",
      "dtypes: float64(1), int64(8), object(2)\n",
      "memory usage: 98.4+ KB\n"
     ]
    }
   ],
   "source": [
    "df.info()"
   ]
  },
  {
   "cell_type": "markdown",
   "id": "35a29d4f",
   "metadata": {},
   "source": [
    "**Above, none of the rows have null values.**"
   ]
  },
  {
   "cell_type": "markdown",
   "id": "bd490655",
   "metadata": {},
   "source": [
    "**Below, make copy of dataframe before wrangling.**"
   ]
  },
  {
   "cell_type": "code",
   "execution_count": 4,
   "id": "55d30aeb",
   "metadata": {},
   "outputs": [],
   "source": [
    "df_c = df.copy()"
   ]
  },
  {
   "cell_type": "markdown",
   "id": "91b4e96c",
   "metadata": {},
   "source": [
    "**Check the first five rows of the dataframe.**"
   ]
  },
  {
   "cell_type": "code",
   "execution_count": 5,
   "id": "30b3cbc7",
   "metadata": {},
   "outputs": [
    {
     "data": {
      "text/html": [
       "<div>\n",
       "<style scoped>\n",
       "    .dataframe tbody tr th:only-of-type {\n",
       "        vertical-align: middle;\n",
       "    }\n",
       "\n",
       "    .dataframe tbody tr th {\n",
       "        vertical-align: top;\n",
       "    }\n",
       "\n",
       "    .dataframe thead th {\n",
       "        text-align: right;\n",
       "    }\n",
       "</style>\n",
       "<table border=\"1\" class=\"dataframe\">\n",
       "  <thead>\n",
       "    <tr style=\"text-align: right;\">\n",
       "      <th></th>\n",
       "      <th>ad_id</th>\n",
       "      <th>xyz_campaign_id</th>\n",
       "      <th>fb_campaign_id</th>\n",
       "      <th>age</th>\n",
       "      <th>gender</th>\n",
       "      <th>interest</th>\n",
       "      <th>Impressions</th>\n",
       "      <th>Clicks</th>\n",
       "      <th>Spent</th>\n",
       "      <th>Total_Conversion</th>\n",
       "      <th>Approved_Conversion</th>\n",
       "    </tr>\n",
       "  </thead>\n",
       "  <tbody>\n",
       "    <tr>\n",
       "      <th>0</th>\n",
       "      <td>708746</td>\n",
       "      <td>916</td>\n",
       "      <td>103916</td>\n",
       "      <td>30-34</td>\n",
       "      <td>M</td>\n",
       "      <td>15</td>\n",
       "      <td>7350</td>\n",
       "      <td>1</td>\n",
       "      <td>1.43</td>\n",
       "      <td>2</td>\n",
       "      <td>1</td>\n",
       "    </tr>\n",
       "    <tr>\n",
       "      <th>1</th>\n",
       "      <td>708749</td>\n",
       "      <td>916</td>\n",
       "      <td>103917</td>\n",
       "      <td>30-34</td>\n",
       "      <td>M</td>\n",
       "      <td>16</td>\n",
       "      <td>17861</td>\n",
       "      <td>2</td>\n",
       "      <td>1.82</td>\n",
       "      <td>2</td>\n",
       "      <td>0</td>\n",
       "    </tr>\n",
       "    <tr>\n",
       "      <th>2</th>\n",
       "      <td>708771</td>\n",
       "      <td>916</td>\n",
       "      <td>103920</td>\n",
       "      <td>30-34</td>\n",
       "      <td>M</td>\n",
       "      <td>20</td>\n",
       "      <td>693</td>\n",
       "      <td>0</td>\n",
       "      <td>0.00</td>\n",
       "      <td>1</td>\n",
       "      <td>0</td>\n",
       "    </tr>\n",
       "    <tr>\n",
       "      <th>3</th>\n",
       "      <td>708815</td>\n",
       "      <td>916</td>\n",
       "      <td>103928</td>\n",
       "      <td>30-34</td>\n",
       "      <td>M</td>\n",
       "      <td>28</td>\n",
       "      <td>4259</td>\n",
       "      <td>1</td>\n",
       "      <td>1.25</td>\n",
       "      <td>1</td>\n",
       "      <td>0</td>\n",
       "    </tr>\n",
       "    <tr>\n",
       "      <th>4</th>\n",
       "      <td>708818</td>\n",
       "      <td>916</td>\n",
       "      <td>103928</td>\n",
       "      <td>30-34</td>\n",
       "      <td>M</td>\n",
       "      <td>28</td>\n",
       "      <td>4133</td>\n",
       "      <td>1</td>\n",
       "      <td>1.29</td>\n",
       "      <td>1</td>\n",
       "      <td>1</td>\n",
       "    </tr>\n",
       "  </tbody>\n",
       "</table>\n",
       "</div>"
      ],
      "text/plain": [
       "    ad_id  xyz_campaign_id  fb_campaign_id    age gender  interest  \\\n",
       "0  708746              916          103916  30-34      M        15   \n",
       "1  708749              916          103917  30-34      M        16   \n",
       "2  708771              916          103920  30-34      M        20   \n",
       "3  708815              916          103928  30-34      M        28   \n",
       "4  708818              916          103928  30-34      M        28   \n",
       "\n",
       "   Impressions  Clicks  Spent  Total_Conversion  Approved_Conversion  \n",
       "0         7350       1   1.43                 2                    1  \n",
       "1        17861       2   1.82                 2                    0  \n",
       "2          693       0   0.00                 1                    0  \n",
       "3         4259       1   1.25                 1                    0  \n",
       "4         4133       1   1.29                 1                    1  "
      ]
     },
     "execution_count": 5,
     "metadata": {},
     "output_type": "execute_result"
    }
   ],
   "source": [
    "df_c.head()"
   ]
  },
  {
   "cell_type": "markdown",
   "id": "b41b2884",
   "metadata": {},
   "source": [
    "**Above, the xyz_campaign_id, which shows the different campaign id's of company xyz's ad campaigns is in integer format. Since we are trying to see which campaign is most effective of\n",
    "company xyz in getting customers, we will change the different integers into 'campaign a','campaign b','campaign c' etc to make the data more readable.**"
   ]
  },
  {
   "cell_type": "markdown",
   "id": "3de31aed",
   "metadata": {},
   "source": [
    "**Below, get unique xyz_campaign_id values.**"
   ]
  },
  {
   "cell_type": "code",
   "execution_count": 6,
   "id": "8a8e1979",
   "metadata": {},
   "outputs": [
    {
     "data": {
      "text/plain": [
       "array([ 916,  936, 1178])"
      ]
     },
     "execution_count": 6,
     "metadata": {},
     "output_type": "execute_result"
    }
   ],
   "source": [
    "df_c.xyz_campaign_id.unique()"
   ]
  },
  {
   "cell_type": "markdown",
   "id": "7071063a",
   "metadata": {},
   "source": [
    "**Above, there are three unique integer values for xyz_campaign_id campaign. We will need to make a function to change those values to 'campaign A', 'campaign B', 'campaign C'.**"
   ]
  },
  {
   "cell_type": "markdown",
   "id": "e29927e1",
   "metadata": {},
   "source": [
    "**Below, make function to change xyz_campaign_id column integer values to a more readable format.**"
   ]
  },
  {
   "cell_type": "code",
   "execution_count": 7,
   "id": "bf97d307",
   "metadata": {},
   "outputs": [],
   "source": [
    "def campaign_id(data):\n",
    "    if data==916:\n",
    "        return 'campaign A'\n",
    "    elif data==936:\n",
    "        return 'campaign B'\n",
    "    elif data==1178:\n",
    "        return 'campaign C'\n",
    "    else:\n",
    "        return data"
   ]
  },
  {
   "cell_type": "markdown",
   "id": "96584e89",
   "metadata": {},
   "source": [
    "**Apply function to to change values in xyz_campaign_id column.**"
   ]
  },
  {
   "cell_type": "code",
   "execution_count": 8,
   "id": "71ea2d0e",
   "metadata": {},
   "outputs": [],
   "source": [
    "df_c['xyz_campaign_id'] = df_c['xyz_campaign_id'].apply(campaign_id)"
   ]
  },
  {
   "cell_type": "markdown",
   "id": "c3aa8d01",
   "metadata": {},
   "source": [
    "**Check the new values of xyz_campaign_id column.**"
   ]
  },
  {
   "cell_type": "code",
   "execution_count": 9,
   "id": "1d66db45",
   "metadata": {},
   "outputs": [
    {
     "data": {
      "text/plain": [
       "0       campaign A\n",
       "1       campaign A\n",
       "2       campaign A\n",
       "3       campaign A\n",
       "4       campaign A\n",
       "           ...    \n",
       "1138    campaign C\n",
       "1139    campaign C\n",
       "1140    campaign C\n",
       "1141    campaign C\n",
       "1142    campaign C\n",
       "Name: xyz_campaign_id, Length: 1143, dtype: object"
      ]
     },
     "execution_count": 9,
     "metadata": {},
     "output_type": "execute_result"
    }
   ],
   "source": [
    "df_c['xyz_campaign_id']"
   ]
  },
  {
   "cell_type": "markdown",
   "id": "5da18c71",
   "metadata": {},
   "source": [
    "**Check if any values in columns ad_id are duplicated.**"
   ]
  },
  {
   "cell_type": "code",
   "execution_count": 76,
   "id": "9832f887",
   "metadata": {},
   "outputs": [
    {
     "data": {
      "text/plain": [
       "0"
      ]
     },
     "execution_count": 76,
     "metadata": {},
     "output_type": "execute_result"
    }
   ],
   "source": [
    "df_c.ad_id.duplicated().sum()"
   ]
  },
  {
   "cell_type": "markdown",
   "id": "dd7e24c4",
   "metadata": {},
   "source": [
    "**Above, none of the values in the ad_id column have been duplicated which means that 1143 different ad_ids were part of just 3 campaigns for company xyz.**"
   ]
  },
  {
   "cell_type": "markdown",
   "id": "93bad552",
   "metadata": {},
   "source": [
    "**Use describe() function to glance the overall range of data.**"
   ]
  },
  {
   "cell_type": "code",
   "execution_count": 77,
   "id": "79c5e637",
   "metadata": {},
   "outputs": [
    {
     "data": {
      "text/html": [
       "<div>\n",
       "<style scoped>\n",
       "    .dataframe tbody tr th:only-of-type {\n",
       "        vertical-align: middle;\n",
       "    }\n",
       "\n",
       "    .dataframe tbody tr th {\n",
       "        vertical-align: top;\n",
       "    }\n",
       "\n",
       "    .dataframe thead th {\n",
       "        text-align: right;\n",
       "    }\n",
       "</style>\n",
       "<table border=\"1\" class=\"dataframe\">\n",
       "  <thead>\n",
       "    <tr style=\"text-align: right;\">\n",
       "      <th></th>\n",
       "      <th>ad_id</th>\n",
       "      <th>fb_campaign_id</th>\n",
       "      <th>interest</th>\n",
       "      <th>Impressions</th>\n",
       "      <th>Clicks</th>\n",
       "      <th>Spent</th>\n",
       "      <th>Total_Conversion</th>\n",
       "      <th>Approved_Conversion</th>\n",
       "      <th>CTR</th>\n",
       "      <th>CPM</th>\n",
       "      <th>CVR</th>\n",
       "      <th>CPTC</th>\n",
       "    </tr>\n",
       "  </thead>\n",
       "  <tbody>\n",
       "    <tr>\n",
       "      <th>count</th>\n",
       "      <td>1.143000e+03</td>\n",
       "      <td>1143.000000</td>\n",
       "      <td>1143.000000</td>\n",
       "      <td>1.143000e+03</td>\n",
       "      <td>1143.000000</td>\n",
       "      <td>1143.000000</td>\n",
       "      <td>1143.000000</td>\n",
       "      <td>1143.000000</td>\n",
       "      <td>1143.000000</td>\n",
       "      <td>1143.000000</td>\n",
       "      <td>1143.000000</td>\n",
       "      <td>1140.000000</td>\n",
       "    </tr>\n",
       "    <tr>\n",
       "      <th>mean</th>\n",
       "      <td>9.872611e+05</td>\n",
       "      <td>133783.989501</td>\n",
       "      <td>32.766404</td>\n",
       "      <td>1.867321e+05</td>\n",
       "      <td>33.390201</td>\n",
       "      <td>51.360656</td>\n",
       "      <td>2.855643</td>\n",
       "      <td>0.944007</td>\n",
       "      <td>0.016420</td>\n",
       "      <td>0.239387</td>\n",
       "      <td>0.025251</td>\n",
       "      <td>inf</td>\n",
       "    </tr>\n",
       "    <tr>\n",
       "      <th>std</th>\n",
       "      <td>1.939928e+05</td>\n",
       "      <td>20500.308622</td>\n",
       "      <td>26.952131</td>\n",
       "      <td>3.127622e+05</td>\n",
       "      <td>56.892438</td>\n",
       "      <td>86.908418</td>\n",
       "      <td>4.483593</td>\n",
       "      <td>1.737708</td>\n",
       "      <td>0.011506</td>\n",
       "      <td>0.160908</td>\n",
       "      <td>0.071205</td>\n",
       "      <td>NaN</td>\n",
       "    </tr>\n",
       "    <tr>\n",
       "      <th>min</th>\n",
       "      <td>7.087460e+05</td>\n",
       "      <td>103916.000000</td>\n",
       "      <td>2.000000</td>\n",
       "      <td>8.700000e+01</td>\n",
       "      <td>0.000000</td>\n",
       "      <td>0.000000</td>\n",
       "      <td>0.000000</td>\n",
       "      <td>0.000000</td>\n",
       "      <td>0.000000</td>\n",
       "      <td>0.000000</td>\n",
       "      <td>0.000000</td>\n",
       "      <td>0.000000</td>\n",
       "    </tr>\n",
       "    <tr>\n",
       "      <th>25%</th>\n",
       "      <td>7.776325e+05</td>\n",
       "      <td>115716.000000</td>\n",
       "      <td>16.000000</td>\n",
       "      <td>6.503500e+03</td>\n",
       "      <td>1.000000</td>\n",
       "      <td>1.480000</td>\n",
       "      <td>1.000000</td>\n",
       "      <td>0.000000</td>\n",
       "      <td>0.010022</td>\n",
       "      <td>0.148742</td>\n",
       "      <td>0.001212</td>\n",
       "      <td>1.405000</td>\n",
       "    </tr>\n",
       "    <tr>\n",
       "      <th>50%</th>\n",
       "      <td>1.121185e+06</td>\n",
       "      <td>144549.000000</td>\n",
       "      <td>25.000000</td>\n",
       "      <td>5.150900e+04</td>\n",
       "      <td>8.000000</td>\n",
       "      <td>12.370000</td>\n",
       "      <td>1.000000</td>\n",
       "      <td>1.000000</td>\n",
       "      <td>0.015981</td>\n",
       "      <td>0.248816</td>\n",
       "      <td>0.003070</td>\n",
       "      <td>8.470000</td>\n",
       "    </tr>\n",
       "    <tr>\n",
       "      <th>75%</th>\n",
       "      <td>1.121804e+06</td>\n",
       "      <td>144657.500000</td>\n",
       "      <td>31.000000</td>\n",
       "      <td>2.217690e+05</td>\n",
       "      <td>37.500000</td>\n",
       "      <td>60.025000</td>\n",
       "      <td>3.000000</td>\n",
       "      <td>1.000000</td>\n",
       "      <td>0.023364</td>\n",
       "      <td>0.332700</td>\n",
       "      <td>0.016941</td>\n",
       "      <td>22.060833</td>\n",
       "    </tr>\n",
       "    <tr>\n",
       "      <th>max</th>\n",
       "      <td>1.314415e+06</td>\n",
       "      <td>179982.000000</td>\n",
       "      <td>114.000000</td>\n",
       "      <td>3.052003e+06</td>\n",
       "      <td>421.000000</td>\n",
       "      <td>639.949998</td>\n",
       "      <td>60.000000</td>\n",
       "      <td>21.000000</td>\n",
       "      <td>0.105932</td>\n",
       "      <td>1.504237</td>\n",
       "      <td>1.149425</td>\n",
       "      <td>inf</td>\n",
       "    </tr>\n",
       "  </tbody>\n",
       "</table>\n",
       "</div>"
      ],
      "text/plain": [
       "              ad_id  fb_campaign_id     interest   Impressions       Clicks  \\\n",
       "count  1.143000e+03     1143.000000  1143.000000  1.143000e+03  1143.000000   \n",
       "mean   9.872611e+05   133783.989501    32.766404  1.867321e+05    33.390201   \n",
       "std    1.939928e+05    20500.308622    26.952131  3.127622e+05    56.892438   \n",
       "min    7.087460e+05   103916.000000     2.000000  8.700000e+01     0.000000   \n",
       "25%    7.776325e+05   115716.000000    16.000000  6.503500e+03     1.000000   \n",
       "50%    1.121185e+06   144549.000000    25.000000  5.150900e+04     8.000000   \n",
       "75%    1.121804e+06   144657.500000    31.000000  2.217690e+05    37.500000   \n",
       "max    1.314415e+06   179982.000000   114.000000  3.052003e+06   421.000000   \n",
       "\n",
       "             Spent  Total_Conversion  Approved_Conversion          CTR  \\\n",
       "count  1143.000000       1143.000000          1143.000000  1143.000000   \n",
       "mean     51.360656          2.855643             0.944007     0.016420   \n",
       "std      86.908418          4.483593             1.737708     0.011506   \n",
       "min       0.000000          0.000000             0.000000     0.000000   \n",
       "25%       1.480000          1.000000             0.000000     0.010022   \n",
       "50%      12.370000          1.000000             1.000000     0.015981   \n",
       "75%      60.025000          3.000000             1.000000     0.023364   \n",
       "max     639.949998         60.000000            21.000000     0.105932   \n",
       "\n",
       "               CPM          CVR         CPTC  \n",
       "count  1143.000000  1143.000000  1140.000000  \n",
       "mean      0.239387     0.025251          inf  \n",
       "std       0.160908     0.071205          NaN  \n",
       "min       0.000000     0.000000     0.000000  \n",
       "25%       0.148742     0.001212     1.405000  \n",
       "50%       0.248816     0.003070     8.470000  \n",
       "75%       0.332700     0.016941    22.060833  \n",
       "max       1.504237     1.149425          inf  "
      ]
     },
     "execution_count": 77,
     "metadata": {},
     "output_type": "execute_result"
    }
   ],
   "source": [
    "df_c.describe()"
   ]
  },
  {
   "cell_type": "markdown",
   "id": "7e4c81c0",
   "metadata": {},
   "source": [
    "**Above, none of the data stands out as being erroneous. However, the Total_Conversion column min value is 0. We will have to watch out for infinite values when we make the cost per total conversion column below.**"
   ]
  },
  {
   "cell_type": "markdown",
   "id": "24ffdb76",
   "metadata": {},
   "source": [
    "**Below, make columns with 'CTR','CPM', 'CVR', 'CPT' values.**"
   ]
  },
  {
   "cell_type": "code",
   "execution_count": 14,
   "id": "72508739",
   "metadata": {},
   "outputs": [],
   "source": [
    "#Make column for click through rate.\n",
    "df_c['CTR'] = (df_c['Clicks']/df_c['Impressions'])*100\n",
    "#Make column for cost per mille (thousand).\n",
    "df_c['CPM'] = (df_c['Spent']/df_c['Impressions'])*1000\n",
    "#Make column for conversion rate.\n",
    "df_c['CVR'] = (df_c['Total_Conversion']/df_c['Impressions'])*100\n",
    "#Make column for cost per total conversion\n",
    "df_c['CPTC'] = df_c['Spent']/df_c['Total_Conversion']"
   ]
  },
  {
   "cell_type": "markdown",
   "id": "ab44c29d",
   "metadata": {},
   "source": [
    "**Check new columns.**"
   ]
  },
  {
   "cell_type": "code",
   "execution_count": 15,
   "id": "a0558eaf",
   "metadata": {},
   "outputs": [
    {
     "data": {
      "text/html": [
       "<div>\n",
       "<style scoped>\n",
       "    .dataframe tbody tr th:only-of-type {\n",
       "        vertical-align: middle;\n",
       "    }\n",
       "\n",
       "    .dataframe tbody tr th {\n",
       "        vertical-align: top;\n",
       "    }\n",
       "\n",
       "    .dataframe thead th {\n",
       "        text-align: right;\n",
       "    }\n",
       "</style>\n",
       "<table border=\"1\" class=\"dataframe\">\n",
       "  <thead>\n",
       "    <tr style=\"text-align: right;\">\n",
       "      <th></th>\n",
       "      <th>CTR</th>\n",
       "      <th>CPM</th>\n",
       "      <th>CVR</th>\n",
       "      <th>CPTC</th>\n",
       "    </tr>\n",
       "  </thead>\n",
       "  <tbody>\n",
       "    <tr>\n",
       "      <th>0</th>\n",
       "      <td>0.013605</td>\n",
       "      <td>0.194558</td>\n",
       "      <td>0.027211</td>\n",
       "      <td>0.715</td>\n",
       "    </tr>\n",
       "    <tr>\n",
       "      <th>1</th>\n",
       "      <td>0.011198</td>\n",
       "      <td>0.101898</td>\n",
       "      <td>0.011198</td>\n",
       "      <td>0.910</td>\n",
       "    </tr>\n",
       "    <tr>\n",
       "      <th>2</th>\n",
       "      <td>0.000000</td>\n",
       "      <td>0.000000</td>\n",
       "      <td>0.144300</td>\n",
       "      <td>0.000</td>\n",
       "    </tr>\n",
       "    <tr>\n",
       "      <th>3</th>\n",
       "      <td>0.023480</td>\n",
       "      <td>0.293496</td>\n",
       "      <td>0.023480</td>\n",
       "      <td>1.250</td>\n",
       "    </tr>\n",
       "    <tr>\n",
       "      <th>4</th>\n",
       "      <td>0.024195</td>\n",
       "      <td>0.312122</td>\n",
       "      <td>0.024195</td>\n",
       "      <td>1.290</td>\n",
       "    </tr>\n",
       "  </tbody>\n",
       "</table>\n",
       "</div>"
      ],
      "text/plain": [
       "        CTR       CPM       CVR   CPTC\n",
       "0  0.013605  0.194558  0.027211  0.715\n",
       "1  0.011198  0.101898  0.011198  0.910\n",
       "2  0.000000  0.000000  0.144300  0.000\n",
       "3  0.023480  0.293496  0.023480  1.250\n",
       "4  0.024195  0.312122  0.024195  1.290"
      ]
     },
     "execution_count": 15,
     "metadata": {},
     "output_type": "execute_result"
    }
   ],
   "source": [
    "df_c[['CTR','CPM','CVR','CPTC']].head()"
   ]
  },
  {
   "cell_type": "markdown",
   "id": "fa27e17d",
   "metadata": {},
   "source": [
    "**Check for infinite values in the 'CPT' (Cost Per Total Conversion) column.**"
   ]
  },
  {
   "cell_type": "code",
   "execution_count": 16,
   "id": "a92d40ce",
   "metadata": {},
   "outputs": [
    {
     "data": {
      "text/html": [
       "<div>\n",
       "<style scoped>\n",
       "    .dataframe tbody tr th:only-of-type {\n",
       "        vertical-align: middle;\n",
       "    }\n",
       "\n",
       "    .dataframe tbody tr th {\n",
       "        vertical-align: top;\n",
       "    }\n",
       "\n",
       "    .dataframe thead th {\n",
       "        text-align: right;\n",
       "    }\n",
       "</style>\n",
       "<table border=\"1\" class=\"dataframe\">\n",
       "  <thead>\n",
       "    <tr style=\"text-align: right;\">\n",
       "      <th></th>\n",
       "      <th>ad_id</th>\n",
       "      <th>xyz_campaign_id</th>\n",
       "      <th>fb_campaign_id</th>\n",
       "      <th>age</th>\n",
       "      <th>gender</th>\n",
       "      <th>interest</th>\n",
       "      <th>Impressions</th>\n",
       "      <th>Clicks</th>\n",
       "      <th>Spent</th>\n",
       "      <th>Total_Conversion</th>\n",
       "      <th>Approved_Conversion</th>\n",
       "      <th>CTR</th>\n",
       "      <th>CPM</th>\n",
       "      <th>CVR</th>\n",
       "      <th>CPTC</th>\n",
       "    </tr>\n",
       "  </thead>\n",
       "  <tbody>\n",
       "    <tr>\n",
       "      <th>221</th>\n",
       "      <td>776476</td>\n",
       "      <td>campaign B</td>\n",
       "      <td>115510</td>\n",
       "      <td>30-34</td>\n",
       "      <td>M</td>\n",
       "      <td>16</td>\n",
       "      <td>43756</td>\n",
       "      <td>5</td>\n",
       "      <td>5.440000</td>\n",
       "      <td>0</td>\n",
       "      <td>0</td>\n",
       "      <td>0.011427</td>\n",
       "      <td>0.124326</td>\n",
       "      <td>0.0</td>\n",
       "      <td>inf</td>\n",
       "    </tr>\n",
       "    <tr>\n",
       "      <th>655</th>\n",
       "      <td>1121352</td>\n",
       "      <td>campaign C</td>\n",
       "      <td>144582</td>\n",
       "      <td>35-39</td>\n",
       "      <td>M</td>\n",
       "      <td>25</td>\n",
       "      <td>368986</td>\n",
       "      <td>59</td>\n",
       "      <td>100.289999</td>\n",
       "      <td>0</td>\n",
       "      <td>0</td>\n",
       "      <td>0.015990</td>\n",
       "      <td>0.271799</td>\n",
       "      <td>0.0</td>\n",
       "      <td>inf</td>\n",
       "    </tr>\n",
       "    <tr>\n",
       "      <th>866</th>\n",
       "      <td>1121820</td>\n",
       "      <td>campaign C</td>\n",
       "      <td>144660</td>\n",
       "      <td>30-34</td>\n",
       "      <td>F</td>\n",
       "      <td>28</td>\n",
       "      <td>11471</td>\n",
       "      <td>1</td>\n",
       "      <td>1.570000</td>\n",
       "      <td>0</td>\n",
       "      <td>0</td>\n",
       "      <td>0.008718</td>\n",
       "      <td>0.136867</td>\n",
       "      <td>0.0</td>\n",
       "      <td>inf</td>\n",
       "    </tr>\n",
       "    <tr>\n",
       "      <th>981</th>\n",
       "      <td>1122146</td>\n",
       "      <td>campaign C</td>\n",
       "      <td>144714</td>\n",
       "      <td>40-44</td>\n",
       "      <td>F</td>\n",
       "      <td>32</td>\n",
       "      <td>319501</td>\n",
       "      <td>79</td>\n",
       "      <td>111.650000</td>\n",
       "      <td>0</td>\n",
       "      <td>0</td>\n",
       "      <td>0.024726</td>\n",
       "      <td>0.349451</td>\n",
       "      <td>0.0</td>\n",
       "      <td>inf</td>\n",
       "    </tr>\n",
       "    <tr>\n",
       "      <th>990</th>\n",
       "      <td>1122182</td>\n",
       "      <td>campaign C</td>\n",
       "      <td>144720</td>\n",
       "      <td>40-44</td>\n",
       "      <td>F</td>\n",
       "      <td>7</td>\n",
       "      <td>40801</td>\n",
       "      <td>12</td>\n",
       "      <td>15.920000</td>\n",
       "      <td>0</td>\n",
       "      <td>0</td>\n",
       "      <td>0.029411</td>\n",
       "      <td>0.390187</td>\n",
       "      <td>0.0</td>\n",
       "      <td>inf</td>\n",
       "    </tr>\n",
       "  </tbody>\n",
       "</table>\n",
       "</div>"
      ],
      "text/plain": [
       "       ad_id xyz_campaign_id  fb_campaign_id    age gender  interest  \\\n",
       "221   776476      campaign B          115510  30-34      M        16   \n",
       "655  1121352      campaign C          144582  35-39      M        25   \n",
       "866  1121820      campaign C          144660  30-34      F        28   \n",
       "981  1122146      campaign C          144714  40-44      F        32   \n",
       "990  1122182      campaign C          144720  40-44      F         7   \n",
       "\n",
       "     Impressions  Clicks       Spent  Total_Conversion  Approved_Conversion  \\\n",
       "221        43756       5    5.440000                 0                    0   \n",
       "655       368986      59  100.289999                 0                    0   \n",
       "866        11471       1    1.570000                 0                    0   \n",
       "981       319501      79  111.650000                 0                    0   \n",
       "990        40801      12   15.920000                 0                    0   \n",
       "\n",
       "          CTR       CPM  CVR  CPTC  \n",
       "221  0.011427  0.124326  0.0   inf  \n",
       "655  0.015990  0.271799  0.0   inf  \n",
       "866  0.008718  0.136867  0.0   inf  \n",
       "981  0.024726  0.349451  0.0   inf  \n",
       "990  0.029411  0.390187  0.0   inf  "
      ]
     },
     "execution_count": 16,
     "metadata": {},
     "output_type": "execute_result"
    }
   ],
   "source": [
    "df_c[np.isinf(df_c['CPTC'])]"
   ]
  },
  {
   "cell_type": "markdown",
   "id": "13f12bd0",
   "metadata": {},
   "source": [
    "**Above, there are 5 infinite values in the 'CPT' column. 5 ad_ids out of 1143 is not alot. We will make a sub dataframe df_c_sub to filter out these rows.**"
   ]
  },
  {
   "cell_type": "markdown",
   "id": "65d9615d",
   "metadata": {},
   "source": [
    "**Below, make df_c_sub filtering out rows with infinity values.**"
   ]
  },
  {
   "cell_type": "code",
   "execution_count": 17,
   "id": "025f03fc",
   "metadata": {},
   "outputs": [],
   "source": [
    "df_c_sub = df_c[~np.isinf(df_c['CPTC'])]"
   ]
  },
  {
   "cell_type": "markdown",
   "id": "70e2e43d",
   "metadata": {},
   "source": [
    "**Check if any rows have infinite values**"
   ]
  },
  {
   "cell_type": "code",
   "execution_count": 18,
   "id": "dd909239",
   "metadata": {},
   "outputs": [
    {
     "data": {
      "text/plain": [
       "0"
      ]
     },
     "execution_count": 18,
     "metadata": {},
     "output_type": "execute_result"
    }
   ],
   "source": [
    "np.isinf(df_c_sub['CPTC']).any().sum()"
   ]
  },
  {
   "cell_type": "markdown",
   "id": "9585f667",
   "metadata": {},
   "source": [
    "### Visual Data Exploration"
   ]
  },
  {
   "cell_type": "markdown",
   "id": "1b33cc45",
   "metadata": {},
   "source": [
    "**Make bar chart showing the count of Targeted Ad IDs by Age and Gender.**"
   ]
  },
  {
   "cell_type": "code",
   "execution_count": 19,
   "id": "48f79ab1",
   "metadata": {},
   "outputs": [
    {
     "data": {
      "image/png": "[encoded data removed]",
      "text/plain": [
       "<Figure size 576x432 with 1 Axes>"
      ]
     },
     "metadata": {
      "needs_background": "light"
     },
     "output_type": "display_data"
    }
   ],
   "source": [
    "plt.figure(figsize=(8,6))\n",
    "sns.countplot(x = 'age', data = df_c, hue = 'gender')\n",
    "plt.title('Count of Targeted Ad IDs by Age and Gender')\n",
    "plt.xlabel('Age')\n",
    "plt.ylabel('Ad ID Count')\n",
    "plt.show()"
   ]
  },
  {
   "cell_type": "markdown",
   "id": "693ef51c",
   "metadata": {},
   "source": [
    "**Above, people age 30-34 had more ads targeted towards them than any other age group. People age 40-44 had the least amount of ads targeting towards them. Although a little more ads were targeted towards males, there isn't a huge difference in the amount of ads target towards males vs females.**"
   ]
  },
  {
   "cell_type": "markdown",
   "id": "d473f0f6",
   "metadata": {},
   "source": [
    "**Below, make bar chart showing the count of Targeted Ad IDs by Campaign IDs and Gender.**"
   ]
  },
  {
   "cell_type": "code",
   "execution_count": 20,
   "id": "7d961ba0",
   "metadata": {},
   "outputs": [
    {
     "data": {
      "image/png": "[encoded data removed]",
      "text/plain": [
       "<Figure size 576x432 with 1 Axes>"
      ]
     },
     "metadata": {
      "needs_background": "light"
     },
     "output_type": "display_data"
    }
   ],
   "source": [
    "plt.figure(figsize=(8,6))\n",
    "sns.countplot(x = 'xyz_campaign_id', data = df_c, hue = 'gender')\n",
    "plt.xlabel('Age')\n",
    "plt.ylabel('Ad ID Count')\n",
    "plt.show()"
   ]
  },
  {
   "cell_type": "markdown",
   "id": "da6bf5b0",
   "metadata": {},
   "source": [
    "**Above, of the 1143 Ad IDs in the df_c dataframe, half of them were part of campaign C. Less than 10 percent of the Ad IDs were part of campaign A. More males than females were targeted for campaign A and C, while more females than males were targeted for campaign B.**"
   ]
  },
  {
   "cell_type": "markdown",
   "id": "4b6d7dbc",
   "metadata": {},
   "source": [
    "**Below, make heatmap exploring possible correlations between'Impressions','Clicks','Spent','Total_Conversion', and 'Approved_Conversion'**"
   ]
  },
  {
   "cell_type": "code",
   "execution_count": 21,
   "id": "3ce0a04f",
   "metadata": {},
   "outputs": [
    {
     "data": {
      "image/png": "[encoded data removed]",
      "text/plain": [
       "<Figure size 576x432 with 2 Axes>"
      ]
     },
     "metadata": {
      "needs_background": "light"
     },
     "output_type": "display_data"
    }
   ],
   "source": [
    "plt.figure(figsize=(8,6))\n",
    "df_c_corr_1 = df_c[['Impressions','Clicks','Spent','Total_Conversion','Approved_Conversion']]\n",
    "ax = sns.heatmap(df_c_corr_1.corr(), annot=True, cmap= 'coolwarm')\n",
    "plt.title('Impressions, Clicks, Spent, Total Conversion, and Approved Conversion Correlation')\n",
    "plt.show()"
   ]
  },
  {
   "cell_type": "markdown",
   "id": "1c9b4d4f",
   "metadata": {},
   "source": [
    "**Above, there is a very high correlation (0.99) between ad spend by company xyz and clicks. There is also a very high correlation (0.97) between ad spend and impressions. There is a lower correlation between ad spend and Total Conversions (0.81). There is a low correlation between ad spend and Approved Conversions. Company xyz's social ads are good at getting impressions and clicks, but they are not effective in making consumers actually buy products.**"
   ]
  },
  {
   "cell_type": "markdown",
   "id": "195516a1",
   "metadata": {},
   "source": [
    "**Below, make heatmap exploring possible correlations between 'CTR','CPM','CVR', and 'CPTC'**"
   ]
  },
  {
   "cell_type": "code",
   "execution_count": 37,
   "id": "b626046e",
   "metadata": {},
   "outputs": [
    {
     "data": {
      "image/png": "[encoded data removed]",
      "text/plain": [
       "<Figure size 576x432 with 2 Axes>"
      ]
     },
     "metadata": {
      "needs_background": "light"
     },
     "output_type": "display_data"
    }
   ],
   "source": [
    "plt.figure(figsize=(8,6))\n",
    "#use df_c_sub dataset\n",
    "df_c_corr_2 = df_c_sub[['CTR','CPM','CVR','CPTC']]\n",
    "sns.heatmap(df_c_corr_2.corr(), annot=True, cmap= 'coolwarm')\n",
    "plt.title('CTR, CPM, CVR, and CPTC Correlation')\n",
    "plt.show()"
   ]
  },
  {
   "cell_type": "markdown",
   "id": "e379515a",
   "metadata": {},
   "source": [
    "**Above, there is a high correlation between Cost Per Mille(Thousand) and Click Through Rate (0.96). But in general there is a low correlation between Click Through Rate, Cost Per Mille(Thousand), Conversion Rate and Cost Per Total Conversion.**"
   ]
  },
  {
   "cell_type": "markdown",
   "id": "90650601",
   "metadata": {},
   "source": [
    "**Below, make bar chart examing the average CPM of ads by age and gender.**"
   ]
  },
  {
   "cell_type": "code",
   "execution_count": 29,
   "id": "9fdf5166",
   "metadata": {},
   "outputs": [
    {
     "data": {
      "image/png": "[encoded data removed]",
      "text/plain": [
       "<Figure size 576x432 with 1 Axes>"
      ]
     },
     "metadata": {
      "needs_background": "light"
     },
     "output_type": "display_data"
    }
   ],
   "source": [
    "plt.figure(figsize=(8,6))\n",
    "sns.barplot(x = 'age', y = 'CPM', hue= 'gender', data = df_c)\n",
    "plt.xlabel('Age')\n",
    "plt.ylabel('Cost Per Mille')\n",
    "plt.title('Average Cost Per Mille by Age and Gender.')\n",
    "plt.show()"
   ]
  },
  {
   "cell_type": "markdown",
   "id": "53a0f691",
   "metadata": {},
   "source": [
    "**Above, the CPM is highest amongst the 45-49 age group. Females in this dataset have a higher CPM than males.**"
   ]
  },
  {
   "cell_type": "markdown",
   "id": "c7072af4",
   "metadata": {},
   "source": [
    "**Below, make box plot examing the mean CTR of ads by age and gender.**"
   ]
  },
  {
   "cell_type": "code",
   "execution_count": 34,
   "id": "6b6c2734",
   "metadata": {},
   "outputs": [
    {
     "data": {
      "image/png": "[encoded data removed]",
      "text/plain": [
       "<Figure size 576x432 with 1 Axes>"
      ]
     },
     "metadata": {
      "needs_background": "light"
     },
     "output_type": "display_data"
    }
   ],
   "source": [
    "base_color=sns.color_palette()[0]\n",
    "plt.figure(figsize=(8,6))\n",
    "sns.boxplot(data = df_c, x = 'age', y = 'CTR', hue='gender')\n",
    "plt.title('Mean Click Through Rate by Age and Gender')\n",
    "plt.xlabel('Age')\n",
    "plt.ylabel('Click Through Rate')\n",
    "plt.ylim(0,0.08)\n",
    "plt.show()"
   ]
  },
  {
   "cell_type": "markdown",
   "id": "04d87224",
   "metadata": {},
   "source": [
    "**Above, the CTR is the highest amongst the 45-49 age group. Females in this dataset have a higher CTR than males. Like the heatmap, it shows that high CPM costs are correlated with a higher Click Through Rate for Company xyz's ad campaigns.**"
   ]
  },
  {
   "cell_type": "markdown",
   "id": "c5c8d483",
   "metadata": {},
   "source": [
    "**Below, make barplot examing the mean CTR of ads by Campaign ID.**"
   ]
  },
  {
   "cell_type": "code",
   "execution_count": 75,
   "id": "4421ea33",
   "metadata": {},
   "outputs": [
    {
     "data": {
      "image/png": "[encoded data removed]",
      "text/plain": [
       "<Figure size 720x432 with 1 Axes>"
      ]
     },
     "metadata": {
      "needs_background": "light"
     },
     "output_type": "display_data"
    }
   ],
   "source": [
    "plt.figure(figsize=(10,6))\n",
    "base_color = sns.color_palette()[0]\n",
    "sns.barplot(data = df_c, x = 'xyz_campaign_id', y = 'CTR', color = base_color)\n",
    "plt.title('Click Through Rate by Campaign ID')\n",
    "plt.xlabel('Campaign ID')\n",
    "plt.ylabel('Click Through Rate')\n",
    "plt.show()"
   ]
  },
  {
   "cell_type": "markdown",
   "id": "cdba65ee",
   "metadata": {},
   "source": [
    "**Above, Campaign A has the highest Click Through Rate.**"
   ]
  },
  {
   "cell_type": "markdown",
   "id": "23185775",
   "metadata": {},
   "source": [
    "**Below, make barplot examing the mean Cost Per Total Conversion by Campaign ID and Gender.**"
   ]
  },
  {
   "cell_type": "code",
   "execution_count": 42,
   "id": "d74418f0",
   "metadata": {},
   "outputs": [
    {
     "data": {
      "image/png": "[encoded data removed]",
      "text/plain": [
       "<Figure size 576x432 with 1 Axes>"
      ]
     },
     "metadata": {
      "needs_background": "light"
     },
     "output_type": "display_data"
    }
   ],
   "source": [
    "plt.figure(figsize=(8,6))\n",
    "sns.barplot(data = df_c_sub, x = 'xyz_campaign_id', y = 'CPTC', hue='gender')\n",
    "plt.title('Cost Per Total Conversion by Campaign ID and Gender')\n",
    "plt.xlabel('Campaign ID')\n",
    "plt.ylabel('Cost Per Total Conversion')\n",
    "plt.show()"
   ]
  },
  {
   "cell_type": "markdown",
   "id": "c24f5bed",
   "metadata": {},
   "source": [
    "**Above, the Cost Per Total Conversion is lowest for campaign A. The Cost Per Total Conversion is highest for campaign A. The CPTC is higher for females than males. Therefore, it is more expensive to get females interested in company xyz's product.**"
   ]
  },
  {
   "cell_type": "markdown",
   "id": "d47f4b4b",
   "metadata": {},
   "source": [
    "**For this dataset the number of customers actually buying the product is shown in Approved Conversion. Below, make scatterplot examining the correlation between Spend and Approved Conversion.**"
   ]
  },
  {
   "cell_type": "code",
   "execution_count": 46,
   "id": "64c1b489",
   "metadata": {},
   "outputs": [
    {
     "data": {
      "image/png": "[encoded data removed]",
      "text/plain": [
       "<Figure size 576x432 with 1 Axes>"
      ]
     },
     "metadata": {
      "needs_background": "light"
     },
     "output_type": "display_data"
    }
   ],
   "source": [
    "from scipy.stats import pearsonr\n",
    "r, pvalue = pearsonr(df_c['Spent'],df_c['Approved_Conversion'])\n",
    "plt.figure(figsize=(8,6))\n",
    "sns.regplot(data=df_c, x='Spent', y='Approved_Conversion', label=f'Pearson = {r:.2f}')\n",
    "plt.legend()\n",
    "plt.title('Ad Spend and Approved Conversion Correlation')\n",
    "plt.xlabel('Approved Conversion')\n",
    "plt.ylabel('Ad Spend')\n",
    "plt.show()"
   ]
  },
  {
   "cell_type": "markdown",
   "id": "ccd2ee2f",
   "metadata": {},
   "source": [
    "**Above, there is a moderate correlation (0.59) between Ad Spend and Approved Conversion for company xyz.**"
   ]
  },
  {
   "cell_type": "markdown",
   "id": "8f9cdc74",
   "metadata": {},
   "source": [
    "**Below, make bar chart examining Cost Per Approved Conversions by campaign id.**"
   ]
  },
  {
   "cell_type": "code",
   "execution_count": 51,
   "id": "f7f6e3c3",
   "metadata": {},
   "outputs": [],
   "source": [
    "#make new dataframe with cost per approved conversion\n",
    "df_cpa_id = df_c.groupby('xyz_campaign_id').sum()[['Spent','Approved_Conversion']]\n",
    "df_cpa_id['CPA']=df_cpa_id['Spent']/df_cpa_id['Approved_Conversion']"
   ]
  },
  {
   "cell_type": "code",
   "execution_count": 60,
   "id": "23476042",
   "metadata": {},
   "outputs": [
    {
     "data": {
      "image/png": "[encoded data removed]",
      "text/plain": [
       "<Figure size 576x432 with 1 Axes>"
      ]
     },
     "metadata": {
      "needs_background": "light"
     },
     "output_type": "display_data"
    }
   ],
   "source": [
    "plt.figure(figsize=(8,6))\n",
    "df_cpa_id['CPA'].plot(kind='bar', title = 'Cost Per Approved Conversion by Campaign ID', xlabel = 'Campaign ID', ylabel='Cost Per Approved Conversion')\n",
    "plt.show()"
   ]
  },
  {
   "cell_type": "markdown",
   "id": "1dae5b96",
   "metadata": {},
   "source": [
    "**Above, Campaign A had the lowest Cost Per Approved Conversion. Campaign C had the highest Cost Per Approved Conversion. Campaign A was the most effective at making consumers buy with the lowest cost.**"
   ]
  },
  {
   "cell_type": "markdown",
   "id": "f513f668",
   "metadata": {},
   "source": [
    "**Below, make bar chart examining Cost Per Approved Conversions by gender.**"
   ]
  },
  {
   "cell_type": "code",
   "execution_count": 63,
   "id": "4cb5bd08",
   "metadata": {},
   "outputs": [],
   "source": [
    "df_cpa_gender = df_c.groupby('gender').sum()[['Spent','Approved_Conversion']]\n",
    "df_cpa_gender['CPA']=df_cpa_gender['Spent']/df_cpa_gender['Approved_Conversion']"
   ]
  },
  {
   "cell_type": "code",
   "execution_count": 73,
   "id": "20e831c1",
   "metadata": {},
   "outputs": [
    {
     "data": {
      "image/png": "[encoded data removed]",
      "text/plain": [
       "<Figure size 576x432 with 1 Axes>"
      ]
     },
     "metadata": {
      "needs_background": "light"
     },
     "output_type": "display_data"
    }
   ],
   "source": [
    "plt.figure(figsize=(8,6))\n",
    "ax02 = df_cpa_gender['CPA'].plot(kind='bar')\n",
    "labels = [item.get_text() for item in ax02.get_xticklabels()]\n",
    "labels[0] = 'Female'\n",
    "labels[1] = 'Male'\n",
    "ax02.set_title('Cost Per Approved Conversion By Gender')\n",
    "ax02.set_xlabel('Gender')\n",
    "ax02.set_ylabel('Cost Per Approved Conversion')\n",
    "ax02.set_xticklabels(labels)\n",
    "plt.show()"
   ]
  },
  {
   "cell_type": "markdown",
   "id": "48cefa58",
   "metadata": {},
   "source": [
    "**Cost Per Approved Conversion is much higher amongst Females than Males.**"
   ]
  },
  {
   "cell_type": "markdown",
   "id": "7bb4cf92",
   "metadata": {},
   "source": [
    "**Below, make bar chart examining Cost Per Approved Conversions by Age.**"
   ]
  },
  {
   "cell_type": "code",
   "execution_count": 70,
   "id": "6b0b267f",
   "metadata": {},
   "outputs": [
    {
     "data": {
      "text/plain": [
       "<Figure size 576x432 with 0 Axes>"
      ]
     },
     "metadata": {},
     "output_type": "display_data"
    },
    {
     "data": {
      "image/png": "[encoded data removed]",
      "text/plain": [
       "<Figure size 576x432 with 1 Axes>"
      ]
     },
     "metadata": {
      "needs_background": "light"
     },
     "output_type": "display_data"
    }
   ],
   "source": [
    "plt.figure(figsize=(8,6))\n",
    "df_cpa_age = df_c.groupby('age').sum()[['Spent','Approved_Conversion']]\n",
    "df_cpa_age['CPA']=df_cpa_age['Spent']/df_cpa_age['Approved_Conversion']\n",
    "plt.figure(figsize=(8,6))\n",
    "df_cpa_age['CPA'].plot(kind='bar')\n",
    "plt.show()"
   ]
  },
  {
   "cell_type": "markdown",
   "id": "d96bbed0",
   "metadata": {},
   "source": [
    "**Cost Per Approved Conversions is highest amongst ages 45 - 49. Cost Per Approved Conversions is lowest amongst ages 30-34.**"
   ]
  },
  {
   "cell_type": "markdown",
   "id": "882a2919",
   "metadata": {},
   "source": [
    "### Conclusion"
   ]
  },
  {
   "cell_type": "markdown",
   "id": "c220a47f",
   "metadata": {},
   "source": [
    "* **For company xyz, there is a very high correlation between ad spend, clicks and impressions.**\n",
    "* **However, there is a moderate correlation between ad spend and Approved Conversions (targeted people who actually buy products).**\n",
    "* **Segmented by age, while people ages 30 - 34 are less likely to click an ad, once they click, they are more likely to buy products from company xyz.**\n",
    "* **On the contrary, while people ages 45-49 are more likely to click an ad, once they click, they are less likely to buy products**\n",
    "* **Segmented by Ad Campaign, campaign A had by far the lowest Cost Per Total Conversion and Cost Per Approved Conversion.**\n",
    "* **Segmented by Gender, Females had much higher Cost Per Approved Conversion than Males.**"
   ]
  },
  {
   "cell_type": "markdown",
   "id": "7ee8e10c",
   "metadata": {},
   "source": [
    "**With the facts above, in this dataset, company xyz should target more potential customers with campaign A as it brought the most paying customers than the other two campaigns. Also, to get more customers with the least ad spend, they should target more males and people in the 30-34 age range.**"
   ]
  },
  {
   "cell_type": "code",
   "execution_count": null,
   "id": "e075dff7",
   "metadata": {},
   "outputs": [],
   "source": []
  }
 ],
 "metadata": {
  "kernelspec": {
   "display_name": "Python 3",
   "language": "python",
   "name": "python3"
  },
  "language_info": {
   "codemirror_mode": {
    "name": "ipython",
    "version": 3
   },
   "file_extension": ".py",
   "mimetype": "text/x-python",
   "name": "python",
   "nbconvert_exporter": "python",
   "pygments_lexer": "ipython3",
   "version": "3.8.8"
  }
 },
 "nbformat": 4,
 "nbformat_minor": 5
}
